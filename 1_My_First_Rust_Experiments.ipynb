{
 "cells": [
  {
   "cell_type": "code",
   "execution_count": 9,
   "metadata": {},
   "outputs": [
    {
     "name": "stdout",
     "output_type": "stream",
     "text": [
      "Hello!\n"
     ]
    },
    {
     "data": {
      "text/plain": [
       "()"
      ]
     },
     "execution_count": 9,
     "metadata": {},
     "output_type": "execute_result"
    }
   ],
   "source": [
    "macro_rules! say_hello {\n",
    "\t() => (\n",
    "\t\tprintln!(\"Hello!\");\n",
    "\t)\n",
    "}\n",
    "say_hello!()"
   ]
  },
  {
   "cell_type": "code",
   "execution_count": 15,
   "metadata": {},
   "outputs": [
    {
     "name": "stdout",
     "output_type": "stream",
     "text": [
      "It's function foo\n"
     ]
    },
    {
     "data": {
      "text/plain": [
       "()"
      ]
     },
     "execution_count": 15,
     "metadata": {},
     "output_type": "execute_result"
    }
   ],
   "source": [
    "macro_rules! create_function {\n",
    "    ($func_name:ident) => (\n",
    "        fn $func_name() {\n",
    "            println!(\"It's function {0}\", \n",
    "                stringify!($func_name)\n",
    "            )\n",
    "        }\n",
    "    )\n",
    "}\n",
    "\n",
    "create_function!(foo);\n",
    "\n",
    "foo()"
   ]
  },
  {
   "cell_type": "code",
   "execution_count": 23,
   "metadata": {},
   "outputs": [
    {
     "name": "stdout",
     "output_type": "stream",
     "text": [
      "первое значение длинного кортежа: (1, 2, 3)\n"
     ]
    }
   ],
   "source": [
    "let long_tup = ((1u8, 2u16, 3u32), (4u32, -1i8), -2i16);\n",
    "println!(\"первое значение длинного кортежа: {:?}\", long_tup.0);"
   ]
  },
  {
   "cell_type": "code",
   "execution_count": 27,
   "metadata": {},
   "outputs": [
    {
     "ename": "Error",
     "evalue": "`({integer}, {integer}, {integer}, {integer}, {integer}, {integer}, {integer}, {integer}, {integer}, {integer}, {integer}, {integer}, {integer})` doesn't implement `std::fmt::Debug`",
     "output_type": "error",
     "traceback": [
      "println!(\"слишком длинный кортеж: {:?}\", too_long_tuple);",
      "\u001b[91m                                         ^^^^^^^^^^^^^^\u001b[0m \u001b[94m`({integer}, {integer}, {integer}, {integer}, {integer}, {integer}, {integer}, {integer}, {integer}, {integer}, {integer}, {integer}, {integer})` cannot be formatted using `{:?}` because it doesn't implement `std::fmt::Debug`\u001b[0m",
      "`({integer}, {integer}, {integer}, {integer}, {integer}, {integer}, {integer}, {integer}, {integer}, {integer}, {integer}, {integer}, {integer})` doesn't implement `std::fmt::Debug`"
     ]
    }
   ],
   "source": [
    "let too_long_tuple = (0, 1, 2, 3, 4, 5, 6, 7, 8, 9, 10, 11, 12);\n",
    "println!(\"слишком длинный кортеж: {:?}\", too_long_tuple);"
   ]
  },
  {
   "cell_type": "code",
   "execution_count": 38,
   "metadata": {},
   "outputs": [
    {
     "name": "stdout",
     "output_type": "stream",
     "text": [
      "Tuple content: (1, 2, true, 3)\n"
     ]
    }
   ],
   "source": [
    "let (a, b, c, d) = (1u8, 2u8, true, 3);\n",
    "println!(\"Tuple content: {:?}\", (a,b,c,d));"
   ]
  },
  {
   "cell_type": "code",
   "execution_count": 41,
   "metadata": {},
   "outputs": [
    {
     "ename": "Error",
     "evalue": "cannot find macro `reverse` in this scope",
     "output_type": "error",
     "traceback": [
      "println!(\"{:?}\", reverse!((1,2,3)));",
      "\u001b[91m                 ^^^^^^^\u001b[0m \u001b[94m\u001b[0m",
      "cannot find macro `reverse` in this scope"
     ]
    }
   ],
   "source": [
    "println!(\"{:?}\", reverse!((1,2,3)));"
   ]
  },
  {
   "cell_type": "code",
   "execution_count": 42,
   "metadata": {},
   "outputs": [],
   "source": [
    "// ------------"
   ]
  },
  {
   "cell_type": "code",
   "execution_count": 55,
   "metadata": {},
   "outputs": [],
   "source": [
    "fn analyse_slice(slice: &[i8]) {\n",
    "    println!(\"The first element: {}\", slice[0]);\n",
    "    println!(\"Len of the slice: {}\", slice.len());\n",
    "}"
   ]
  },
  {
   "cell_type": "code",
   "execution_count": 57,
   "metadata": {},
   "outputs": [],
   "source": [
    "let sl1: [i8;3] = [4,5,6];"
   ]
  },
  {
   "cell_type": "code",
   "execution_count": 58,
   "metadata": {},
   "outputs": [
    {
     "name": "stdout",
     "output_type": "stream",
     "text": [
      "The first element: 4\n",
      "Len of the slice: 3\n"
     ]
    }
   ],
   "source": [
    "analyse_slice(&sl1);"
   ]
  },
  {
   "cell_type": "code",
   "execution_count": 61,
   "metadata": {},
   "outputs": [
    {
     "data": {
      "text/plain": [
       "[1, 1, 1, 1, 1]"
      ]
     },
     "execution_count": 61,
     "metadata": {},
     "output_type": "execute_result"
    }
   ],
   "source": [
    "let ar2: [i8; 5] = [1; 5];\n",
    "ar2"
   ]
  },
  {
   "cell_type": "code",
   "execution_count": 62,
   "metadata": {},
   "outputs": [
    {
     "data": {
      "text/plain": [
       "5"
      ]
     },
     "execution_count": 62,
     "metadata": {},
     "output_type": "execute_result"
    }
   ],
   "source": [
    "ar2.len()"
   ]
  },
  {
   "cell_type": "code",
   "execution_count": 64,
   "metadata": {},
   "outputs": [
    {
     "data": {
      "text/plain": [
       "5"
      ]
     },
     "execution_count": 64,
     "metadata": {},
     "output_type": "execute_result"
    }
   ],
   "source": [
    "use std::mem;\n",
    "mem::size_of_val(&ar2)"
   ]
  },
  {
   "cell_type": "code",
   "execution_count": 65,
   "metadata": {},
   "outputs": [
    {
     "name": "stdout",
     "output_type": "stream",
     "text": [
      "[1, 1, 1]\n"
     ]
    },
    {
     "data": {
      "text/plain": [
       "()"
      ]
     },
     "execution_count": 65,
     "metadata": {},
     "output_type": "execute_result"
    }
   ],
   "source": [
    "println!(\"{:?}\", &ar2[1..4])"
   ]
  },
  {
   "cell_type": "code",
   "execution_count": 66,
   "metadata": {},
   "outputs": [
    {
     "ename": "Error",
     "evalue": "the size for values of type `[i8]` cannot be known at compilation time",
     "output_type": "error",
     "traceback": [
      "println!(\"{:?}\", ar2[1..4])",
      "\u001b[91m^^^^^^^^^^^^^^^^^^^^^^^^^^^\u001b[0m \u001b[94mdoesn't have a size known at compile-time\u001b[0m",
      "the size for values of type `[i8]` cannot be known at compilation time"
     ]
    }
   ],
   "source": [
    "println!(\"{:?}\", ar2[1..4])"
   ]
  },
  {
   "cell_type": "code",
   "execution_count": 67,
   "metadata": {},
   "outputs": [
    {
     "ename": "Error",
     "evalue": "index out of bounds: the len is 5 but the index is 5",
     "output_type": "error",
     "traceback": [
      "println!(\"{:?}\", &ar2[5])",
      "\u001b[91m                  ^^^^^^\u001b[0m \u001b[94m\u001b[0m",
      "index out of bounds: the len is 5 but the index is 5"
     ]
    }
   ],
   "source": [
    "println!(\"{:?}\", &ar2[5])"
   ]
  },
  {
   "cell_type": "code",
   "execution_count": 70,
   "metadata": {},
   "outputs": [],
   "source": [
    "#[derive(PartialEq, PartialOrd, Debug)]\n",
    "struct Centimeters(f64);\n",
    "\n",
    "// `Inches`, a tuple struct that can be printed\n",
    "#[derive(Debug)]\n",
    "struct Inches(i32);\n",
    "\n",
    "impl Inches {\n",
    "    fn to_centimeters(&self) -> Centimeters {\n",
    "        let &Inches(inches) = self;\n",
    "\n",
    "        Centimeters(inches as f64 * 2.54)\n",
    "    }\n",
    "}"
   ]
  },
  {
   "cell_type": "code",
   "execution_count": 71,
   "metadata": {},
   "outputs": [
    {
     "data": {
      "text/plain": [
       "Centimeters(30.48)"
      ]
     },
     "execution_count": 71,
     "metadata": {},
     "output_type": "execute_result"
    }
   ],
   "source": [
    "let foot = Inches(12);\n",
    "foot.to_centimeters()"
   ]
  },
  {
   "cell_type": "code",
   "execution_count": 72,
   "metadata": {},
   "outputs": [
    {
     "data": {
      "text/plain": [
       "Inches(12)"
      ]
     },
     "execution_count": 72,
     "metadata": {},
     "output_type": "execute_result"
    }
   ],
   "source": [
    "foot"
   ]
  },
  {
   "cell_type": "code",
   "execution_count": 2,
   "metadata": {},
   "outputs": [
    {
     "name": "stdout",
     "output_type": "stream",
     "text": [
      "0x7ffee89e8c64\n",
      "0x7ffee89e8c64\n"
     ]
    }
   ],
   "source": [
    "\n",
    "\tlet t = (92,);\n",
    "\tprintln!(\"{:?}\", &t as *const (i32,));\n",
    "\tprintln!(\"{:?}\", &t.0 as *const i32);\n"
   ]
  },
  {
   "cell_type": "code",
   "execution_count": null,
   "metadata": {},
   "outputs": [],
   "source": []
  }
 ],
 "metadata": {
  "kernelspec": {
   "display_name": "Rust",
   "language": "rust",
   "name": "rust"
  },
  "language_info": {
   "codemirror_mode": "rust",
   "file_extension": ".rs",
   "mimetype": "text/rust",
   "name": "Rust",
   "pygment_lexer": "rust",
   "version": ""
  }
 },
 "nbformat": 4,
 "nbformat_minor": 2
}
